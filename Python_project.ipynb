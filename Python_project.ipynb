{
 "cells": [
  {
   "cell_type": "code",
   "execution_count": 2,
   "id": "8e5f23a6",
   "metadata": {},
   "outputs": [
    {
     "name": "stdout",
     "output_type": "stream",
     "text": [
      "Enter name = shruti\n",
      "Percentage of Attendance =  66.66666666666667\n"
     ]
    }
   ],
   "source": [
    "import openpyxl\n",
    "path = \"attendance.xlsx\"\n",
    "wb_obj = openpyxl.load_workbook(path)\n",
    "sheet_obj = wb_obj.active\n",
    "row = sheet_obj.max_row\n",
    "column = sheet_obj.max_column\n",
    "name = input(\"Enter name = \")\n",
    "sum = 0\n",
    "for i in range(2,row+1):\n",
    "    cell_obj = sheet_obj.cell(row = i,column = 2)\n",
    "    if cell_obj.value == name: \n",
    "        for j in range(3,column+1):\n",
    "            cell_obj1 = sheet_obj.cell(row = i, column = j)\n",
    "            if cell_obj1.value == \"P\":\n",
    "                sum = sum+1\n",
    "percent = (sum*100)/(column-2)\n",
    "print(\"Percentage of Attendance = \",percent)"
   ]
  },
  {
   "cell_type": "code",
   "execution_count": 3,
   "id": "292e2941",
   "metadata": {},
   "outputs": [],
   "source": [
    "import openpyxl\n",
    "path = 'attendance.xlsx'\n",
    "wb_obj = openpyxl.load_workbook(path)\n",
    "sheet_obj = wb_obj.active\n",
    "row = sheet_obj.max_row\n",
    "column = sheet_obj.max_column\n",
    "name = input(\"Enter name = \")\n",
    "sum =0\n",
    "for i in range(2,row+1):\n",
    "    cell_obj = sheet_obj.cell(row = i, column = 2)\n",
    "    if cell_obj.value == name:\n",
    "        for j in range(3,column+1):\n",
    "            cell_obj = sheet_obj.cell(row = i, column = j)\n",
    "            if cell_obj.value = \"P\":\n",
    "                sum = sum+1\n",
    "percent = (sum*100)/(column-2)\n",
    "print(\"Percentage of Attendance = \",percent)"
   ]
  },
  {
   "cell_type": "code",
   "execution_count": null,
   "id": "bb30b4be",
   "metadata": {},
   "outputs": [],
   "source": []
  }
 ],
 "metadata": {
  "kernelspec": {
   "display_name": "Python 3 (ipykernel)",
   "language": "python",
   "name": "python3"
  },
  "language_info": {
   "codemirror_mode": {
    "name": "ipython",
    "version": 3
   },
   "file_extension": ".py",
   "mimetype": "text/x-python",
   "name": "python",
   "nbconvert_exporter": "python",
   "pygments_lexer": "ipython3",
   "version": "3.11.3"
  }
 },
 "nbformat": 4,
 "nbformat_minor": 5
}
